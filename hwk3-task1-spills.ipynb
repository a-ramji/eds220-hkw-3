{
 "cells": [
  {
   "cell_type": "markdown",
   "metadata": {},
   "source": [
    "# Task 1  \n",
    "\n",
    "## General instructions\n",
    "\n",
    "First, update the following text to have a link to your Homework 2 GitHub repository:\n",
    "\n",
    "**UPDATE THIS LINK**\n",
    "https://github.com/a-ramji/eds220-hwk-3\n",
    "\n",
    "Add comments for all your code and commit as needed. Err on the side of commenting and commiting too much for now. Points will be deducted for insufficient comments.\n",
    "\n",
    "\n",
    "## About the data\n",
    "In this task you will use two datsets:\n",
    "\n",
    "**First dataset**\n",
    "\n",
    "The first dataset contains information about [spilling incidents in the state of New York](https://data.ny.gov/Energy-Environment/Spill-Incidents/u44d-k5fk). \n",
    "The data portal has plenty of information. \n",
    "You will find extra information and metadata for this datset in the 'NYSDEC_SpillIncidents_Overview.pdf' and 'NYSDEC_SpillIncidents_DataDictionary.pdf' documents available at the portal.\n",
    "\n",
    "You can access this datset via its URL or download it as a csv. \n",
    "If you chose to access it via URL, it will take a while to load every time you import it. \n",
    "\n",
    "**Second dataset**\n",
    "\n",
    "The second dataset is a [TIGER shapefile from the United States Census Bureau](https://www.census.gov/geographies/mapping-files/time-series/geo/tiger-line-file.2022.html#list-tab-790442341). \n",
    "For this task you will need to **download the 2022 counties (and equivalent) TIGER shapefile**. \n",
    "You can check the [metadata for all the TIGER shapefiles here](https://www.census.gov/programs-surveys/geography/technical-documentation/complete-technical-documentation/tiger-geo-line.html). \n",
    "\n",
    "\n",
    "\n",
    "## File management\n",
    "Make sure all your data files are inside a directory named 'data' inside your repository's directory (working directory)."
   ]
  },
  {
   "cell_type": "markdown",
   "metadata": {},
   "source": [
    "## Datasets description\n",
    "Read the metadata for both datsets and write a brief description about each once. Indicate the date sources and date of access.\n",
    "\n",
    "\n",
    "**First dataset: Spilling incidents in New York Summary:**\n",
    "\"This dataset contains records of spills of petroleum and other hazardous materials. Under State law and regulations, spills that could pollute the lands or waters of the state must be reported by the spiller (and, in some cases, by anyone who has knowledge of the spill). \"\n",
    "\n",
    "Each spill record includes:\n",
    "- Administrative information (DEC region and unique seven-digit spill number).\n",
    "- Facility type.\n",
    "- Spill date/time.\n",
    "- Location.\n",
    "- Contributing factor.\n",
    "- Spill source and cause.\n",
    "- Material(s) and material type spilled.\n",
    "- Quantity spilled and recovered.\n",
    "- Surface water bodies affected.\n",
    "- Close date (cleanup activity finished and all paperwork completed). \n",
    "[source](https://data.ny.gov/Energy-Environment/Spill-Incidents/u44d-k5fk)\n",
    "\n",
    "Accessed November 6, 2023.\n",
    "\n",
    "\n",
    "**second dataset:TIGER 2022 Counties and equivalent Summary:**\n",
    "\n",
    "[Source](https://www.census.gov/geographies/mapping-files/time-series/geo/tiger-line-file.2022.html#list-tab-790442341)\n",
    "Accessed November 6, 2023.\n"
   ]
  },
  {
   "cell_type": "markdown",
   "metadata": {},
   "source": [
    "## FINAL CODE\n",
    "\n",
    "You will use the next cell at the end of the task. Leave it blank for now. "
   ]
  },
  {
   "cell_type": "code",
   "execution_count": null,
   "metadata": {},
   "outputs": [],
   "source": [
    "### ===== FINAL CODE ====="
   ]
  },
  {
   "cell_type": "markdown",
   "metadata": {},
   "source": [
    "<!-- write your description in this markdwon cell -->"
   ]
  },
  {
   "cell_type": "markdown",
   "metadata": {},
   "source": [
    "## Import libraries"
   ]
  },
  {
   "cell_type": "code",
   "execution_count": 1,
   "metadata": {
    "tags": []
   },
   "outputs": [],
   "source": [
    "# import libraries here\n",
    "# import numpy too\n",
    "\n",
    "import pandas as pd\n",
    "import numpy as np\n",
    "import geopandas as gpd\n",
    "import matplotlib.pyplot as plt"
   ]
  },
  {
   "cell_type": "markdown",
   "metadata": {},
   "source": [
    "## Import data \n",
    "In the next cell:\n",
    "\n",
    "- Import the NY spills data as a variable named `spills`. \n",
    "- Import the US counties shapefile as a variable named `counties`.\n"
   ]
  },
  {
   "cell_type": "code",
   "execution_count": 2,
   "metadata": {
    "tags": []
   },
   "outputs": [],
   "source": [
    "# importing NY spills data\n",
    "\n",
    "spills = pd.read_csv(\"data/Spill_Incidents_20231106.csv\")\n",
    "\n",
    "# importing counties\n",
    "counties = gpd.read_file(\"data/tl_2022_us_county/tl_2022_us_county.shp\")"
   ]
  },
  {
   "cell_type": "markdown",
   "metadata": {},
   "source": [
    "## Prepare spills data\n",
    "\n",
    "This section refers to the `spills` dataframe. \n",
    "Check the outputs carefully, they will give you context about the next exercises.\n",
    "\n",
    "### Exploration\n",
    "\n",
    "In the next cells:\n",
    "\n",
    "1. Check the dataframe's head\n",
    "2. Simplify column names as needed\n",
    "3. Check the data types of the columns\n",
    "4. Check the unique values in the `material_family` column\n",
    "5. Check the unique values in the `county` column\n",
    "\n",
    "You can add any other cells of preliminary data exploration."
   ]
  },
  {
   "cell_type": "code",
   "execution_count": 3,
   "metadata": {
    "tags": []
   },
   "outputs": [
    {
     "data": {
      "text/html": [
       "<div>\n",
       "<style scoped>\n",
       "    .dataframe tbody tr th:only-of-type {\n",
       "        vertical-align: middle;\n",
       "    }\n",
       "\n",
       "    .dataframe tbody tr th {\n",
       "        vertical-align: top;\n",
       "    }\n",
       "\n",
       "    .dataframe thead th {\n",
       "        text-align: right;\n",
       "    }\n",
       "</style>\n",
       "<table border=\"1\" class=\"dataframe\">\n",
       "  <thead>\n",
       "    <tr style=\"text-align: right;\">\n",
       "      <th></th>\n",
       "      <th>Spill Number</th>\n",
       "      <th>Program Facility Name</th>\n",
       "      <th>Street 1</th>\n",
       "      <th>Street 2</th>\n",
       "      <th>Locality</th>\n",
       "      <th>County</th>\n",
       "      <th>ZIP Code</th>\n",
       "      <th>SWIS Code</th>\n",
       "      <th>DEC Region</th>\n",
       "      <th>Spill Date</th>\n",
       "      <th>Received Date</th>\n",
       "      <th>Contributing Factor</th>\n",
       "      <th>Waterbody</th>\n",
       "      <th>Source</th>\n",
       "      <th>Close Date</th>\n",
       "      <th>Material Name</th>\n",
       "      <th>Material Family</th>\n",
       "      <th>Quantity</th>\n",
       "      <th>Units</th>\n",
       "      <th>Recovered</th>\n",
       "    </tr>\n",
       "  </thead>\n",
       "  <tbody>\n",
       "    <tr>\n",
       "      <th>0</th>\n",
       "      <td>107132</td>\n",
       "      <td>MH 864</td>\n",
       "      <td>RT 119/MILLWOOD RD</td>\n",
       "      <td>NaN</td>\n",
       "      <td>ELMSFORD</td>\n",
       "      <td>Westchester</td>\n",
       "      <td>NaN</td>\n",
       "      <td>6000</td>\n",
       "      <td>3</td>\n",
       "      <td>10/10/2001</td>\n",
       "      <td>10/10/2001</td>\n",
       "      <td>Unknown</td>\n",
       "      <td>NaN</td>\n",
       "      <td>Unknown</td>\n",
       "      <td>10/15/2001</td>\n",
       "      <td>unknown material</td>\n",
       "      <td>Other</td>\n",
       "      <td>10.0</td>\n",
       "      <td>Gallons</td>\n",
       "      <td>0.0</td>\n",
       "    </tr>\n",
       "    <tr>\n",
       "      <th>1</th>\n",
       "      <td>405586</td>\n",
       "      <td>BOWRY BAY</td>\n",
       "      <td>WATER POLL CONTROL</td>\n",
       "      <td>NaN</td>\n",
       "      <td>QUEENS</td>\n",
       "      <td>Queens</td>\n",
       "      <td>NaN</td>\n",
       "      <td>4101</td>\n",
       "      <td>2</td>\n",
       "      <td>08/21/2004</td>\n",
       "      <td>08/21/2004</td>\n",
       "      <td>Other</td>\n",
       "      <td>EAST RIVER</td>\n",
       "      <td>Unknown</td>\n",
       "      <td>09/17/2004</td>\n",
       "      <td>raw sewage</td>\n",
       "      <td>Other</td>\n",
       "      <td>0.0</td>\n",
       "      <td>Pounds</td>\n",
       "      <td>0.0</td>\n",
       "    </tr>\n",
       "    <tr>\n",
       "      <th>2</th>\n",
       "      <td>405586</td>\n",
       "      <td>BOWRY BAY</td>\n",
       "      <td>WATER POLL CONTROL</td>\n",
       "      <td>NaN</td>\n",
       "      <td>QUEENS</td>\n",
       "      <td>Queens</td>\n",
       "      <td>NaN</td>\n",
       "      <td>4101</td>\n",
       "      <td>2</td>\n",
       "      <td>08/21/2004</td>\n",
       "      <td>08/21/2004</td>\n",
       "      <td>Other</td>\n",
       "      <td>EAST RIVER</td>\n",
       "      <td>Unknown</td>\n",
       "      <td>09/17/2004</td>\n",
       "      <td>raw sewage</td>\n",
       "      <td>Other</td>\n",
       "      <td>0.0</td>\n",
       "      <td>NaN</td>\n",
       "      <td>0.0</td>\n",
       "    </tr>\n",
       "    <tr>\n",
       "      <th>3</th>\n",
       "      <td>204667</td>\n",
       "      <td>POLE 16091</td>\n",
       "      <td>GRACE AVE/BURKE AVE</td>\n",
       "      <td>NaN</td>\n",
       "      <td>BRONX</td>\n",
       "      <td>Bronx</td>\n",
       "      <td>NaN</td>\n",
       "      <td>301</td>\n",
       "      <td>2</td>\n",
       "      <td>08/02/2002</td>\n",
       "      <td>08/02/2002</td>\n",
       "      <td>Equipment Failure</td>\n",
       "      <td>NaN</td>\n",
       "      <td>Commercial/Industrial</td>\n",
       "      <td>10/28/2002</td>\n",
       "      <td>transformer oil</td>\n",
       "      <td>Petroleum</td>\n",
       "      <td>1.0</td>\n",
       "      <td>Gallons</td>\n",
       "      <td>0.0</td>\n",
       "    </tr>\n",
       "    <tr>\n",
       "      <th>4</th>\n",
       "      <td>210559</td>\n",
       "      <td>POLE ON</td>\n",
       "      <td>FERDALE LOMIS RD / RT 52</td>\n",
       "      <td>NaN</td>\n",
       "      <td>LIBERTY</td>\n",
       "      <td>Sullivan</td>\n",
       "      <td>NaN</td>\n",
       "      <td>5336</td>\n",
       "      <td>3</td>\n",
       "      <td>01/20/2003</td>\n",
       "      <td>01/20/2003</td>\n",
       "      <td>Traffic Accident</td>\n",
       "      <td>NaN</td>\n",
       "      <td>Commercial/Industrial</td>\n",
       "      <td>01/22/2003</td>\n",
       "      <td>transformer oil</td>\n",
       "      <td>Petroleum</td>\n",
       "      <td>6.0</td>\n",
       "      <td>Gallons</td>\n",
       "      <td>6.0</td>\n",
       "    </tr>\n",
       "  </tbody>\n",
       "</table>\n",
       "</div>"
      ],
      "text/plain": [
       "   Spill Number Program Facility Name                  Street 1 Street 2  \\\n",
       "0        107132                MH 864        RT 119/MILLWOOD RD      NaN   \n",
       "1        405586             BOWRY BAY        WATER POLL CONTROL      NaN   \n",
       "2        405586             BOWRY BAY        WATER POLL CONTROL      NaN   \n",
       "3        204667            POLE 16091       GRACE AVE/BURKE AVE      NaN   \n",
       "4        210559               POLE ON  FERDALE LOMIS RD / RT 52      NaN   \n",
       "\n",
       "   Locality       County ZIP Code  SWIS Code  DEC Region  Spill Date  \\\n",
       "0  ELMSFORD  Westchester      NaN       6000           3  10/10/2001   \n",
       "1    QUEENS       Queens      NaN       4101           2  08/21/2004   \n",
       "2    QUEENS       Queens      NaN       4101           2  08/21/2004   \n",
       "3     BRONX        Bronx      NaN        301           2  08/02/2002   \n",
       "4   LIBERTY     Sullivan      NaN       5336           3  01/20/2003   \n",
       "\n",
       "  Received Date Contributing Factor   Waterbody                 Source  \\\n",
       "0    10/10/2001             Unknown         NaN                Unknown   \n",
       "1    08/21/2004               Other  EAST RIVER                Unknown   \n",
       "2    08/21/2004               Other  EAST RIVER                Unknown   \n",
       "3    08/02/2002   Equipment Failure         NaN  Commercial/Industrial   \n",
       "4    01/20/2003    Traffic Accident         NaN  Commercial/Industrial   \n",
       "\n",
       "   Close Date     Material Name Material Family  Quantity    Units  Recovered  \n",
       "0  10/15/2001  unknown material           Other      10.0  Gallons        0.0  \n",
       "1  09/17/2004        raw sewage           Other       0.0   Pounds        0.0  \n",
       "2  09/17/2004        raw sewage           Other       0.0      NaN        0.0  \n",
       "3  10/28/2002   transformer oil       Petroleum       1.0  Gallons        0.0  \n",
       "4  01/22/2003   transformer oil       Petroleum       6.0  Gallons        6.0  "
      ]
     },
     "execution_count": 3,
     "metadata": {},
     "output_type": "execute_result"
    }
   ],
   "source": [
    "# 1. check dataframe's head\n",
    "spills.head()"
   ]
  },
  {
   "cell_type": "code",
   "execution_count": 4,
   "metadata": {
    "tags": []
   },
   "outputs": [
    {
     "data": {
      "text/plain": [
       "Index(['spill_number', 'program_facility_name', 'street_1', 'street_2',\n",
       "       'locality', 'county', 'zip_code', 'swis_code', 'dec_region',\n",
       "       'spill_date', 'received_date', 'contributing_factor', 'waterbody',\n",
       "       'source', 'close_date', 'material_name', 'material_family', 'quantity',\n",
       "       'units', 'recovered'],\n",
       "      dtype='object')"
      ]
     },
     "execution_count": 4,
     "metadata": {},
     "output_type": "execute_result"
    }
   ],
   "source": [
    "# 2. simplify column names as needed\n",
    "spills.columns = spills.columns.str.lower().str.replace(' ','_')\n",
    "spills.columns"
   ]
  },
  {
   "cell_type": "code",
   "execution_count": 10,
   "metadata": {
    "tags": []
   },
   "outputs": [
    {
     "data": {
      "text/plain": [
       "spill_number               int64\n",
       "program_facility_name     object\n",
       "street_1                  object\n",
       "street_2                  object\n",
       "locality                  object\n",
       "county                    object\n",
       "zip_code                  object\n",
       "swis_code                  int64\n",
       "dec_region                 int64\n",
       "spill_date                object\n",
       "received_date             object\n",
       "contributing_factor       object\n",
       "waterbody                 object\n",
       "source                    object\n",
       "close_date                object\n",
       "material_name             object\n",
       "material_family           object\n",
       "quantity                 float64\n",
       "units                     object\n",
       "recovered                float64\n",
       "dtype: object"
      ]
     },
     "execution_count": 10,
     "metadata": {},
     "output_type": "execute_result"
    }
   ],
   "source": [
    "# 3. check the data types of the columns\n",
    "spills.dtypes"
   ]
  },
  {
   "cell_type": "code",
   "execution_count": 11,
   "metadata": {
    "tags": []
   },
   "outputs": [
    {
     "data": {
      "text/plain": [
       "array(['Other', 'Petroleum', 'Hazardous Material', 'Oxygenates'],\n",
       "      dtype=object)"
      ]
     },
     "execution_count": 11,
     "metadata": {},
     "output_type": "execute_result"
    }
   ],
   "source": [
    "# 4. checking unique values in material_family column\n",
    "\n",
    "spills.material_family.unique()"
   ]
  },
  {
   "cell_type": "code",
   "execution_count": 12,
   "metadata": {
    "tags": []
   },
   "outputs": [
    {
     "data": {
      "text/plain": [
       "array(['Westchester', 'Queens', 'Bronx', 'Sullivan', 'Cortland',\n",
       "       'New York', 'Ulster', 'Kings', 'Orange', 'Dutchess', 'Onondaga',\n",
       "       'Saratoga', 'Cayuga', 'Oswego', 'Warren', 'Niagara', 'Rockland',\n",
       "       'Nassau', 'Jefferson', 'Schenectady', 'Albany', 'Monroe',\n",
       "       'St Lawrence', 'Richmond', 'Clinton', 'Lewis', 'Essex', 'Chenango',\n",
       "       'Erie', 'Livingston', 'Wayne', 'Suffolk', 'Orleans', 'Ontario',\n",
       "       'Genesee', 'Otsego', 'Tompkins', 'Madison', 'Chemung', 'Seneca',\n",
       "       'Oneida', 'Broome', 'Hamilton', 'Washington', 'Schuyler',\n",
       "       'Franklin', 'Columbia', 'Fulton', 'Herkimer', 'Schoharie',\n",
       "       'Rensselaer', 'Montgomery', 'Putnam', 'Delaware',\n",
       "       'New Jersey - Region 2', 'Steuben', 'Tioga', 'Chautauqua',\n",
       "       'Cattaraugus', 'Wyoming', 'Yates', 'Greene',\n",
       "       'Pennsylvania - Region 9', 'Allegany', 'New Jersey - Region 3 (N)',\n",
       "       'Cattaraugus Indian Reservation', 'New Jersey - Region 3 (T)',\n",
       "       'Canada - Region 6', 'Canada - Region 9',\n",
       "       'Pennsylvania - Region 8', 'Vermont - Region 5 (R)',\n",
       "       'Vermont - Region 4', 'Connecticut - Region 3 (N)',\n",
       "       'Pennsylvania - Region 3', 'Tuscarora Indian Reservation',\n",
       "       'Connecticut - Region 4', 'Connecticut - Region 3 (T)',\n",
       "       'Massachusetts - Region 4', 'Connecticut - Region 1',\n",
       "       'Canada - Region 8', 'Oil Springs Indian Reservation',\n",
       "       'Canada - Region 5', 'Poospatuck Indian Reservation',\n",
       "       'Onondaga Indian Reservation',\n",
       "       'St. Regis Indian Reservation - Region 5',\n",
       "       'Pennsylvania - Region 7', 'Shinnecock Indian Reservation'],\n",
       "      dtype=object)"
      ]
     },
     "execution_count": 12,
     "metadata": {},
     "output_type": "execute_result"
    }
   ],
   "source": [
    "# 5. checking the unique values in the \"county\" column\n",
    "\n",
    "spills.county.unique()"
   ]
  },
  {
   "cell_type": "markdown",
   "metadata": {},
   "source": [
    "### Data selection\n",
    "\n",
    "1. Select data about petroleum spills that took place between January 1st 2023, and October 31st (including both dates), 2023. Store it in a variable named `petr_23`. The data selection should occur in a single line. You may add cells if you needed."
   ]
  },
  {
   "cell_type": "code",
   "execution_count": 21,
   "metadata": {
    "tags": []
   },
   "outputs": [
    {
     "data": {
      "text/plain": [
       "spill_number                      int64\n",
       "program_facility_name            object\n",
       "street_1                         object\n",
       "street_2                         object\n",
       "locality                         object\n",
       "county                           object\n",
       "zip_code                         object\n",
       "swis_code                         int64\n",
       "dec_region                        int64\n",
       "spill_date               datetime64[ns]\n",
       "received_date            datetime64[ns]\n",
       "contributing_factor              object\n",
       "waterbody                        object\n",
       "source                           object\n",
       "close_date               datetime64[ns]\n",
       "material_name                    object\n",
       "material_family                  object\n",
       "quantity                        float64\n",
       "units                            object\n",
       "recovered                       float64\n",
       "dtype: object"
      ]
     },
     "execution_count": 21,
     "metadata": {},
     "output_type": "execute_result"
    }
   ],
   "source": [
    "# we want the spill date, so we'll use that column\n",
    "\n",
    "# our spill_date and received_date columns are both type \"object\" rather than datetime64, \n",
    "# so we'll change this first using pd.to_datetime\n",
    "\n",
    "spills.spill_date = pd.to_datetime(spills.spill_date)\n",
    "spills.received_date = pd.to_datetime(spills.received_date)\n",
    "spills.close_date = pd.to_datetime(spills.close_date)\n",
    "\n",
    "# let's check if this step worked:\n",
    "\n",
    "spills.dtypes\n",
    "# it did!"
   ]
  },
  {
   "cell_type": "code",
   "execution_count": 22,
   "metadata": {
    "tags": []
   },
   "outputs": [
    {
     "data": {
      "text/plain": [
       "array(['Petroleum'], dtype=object)"
      ]
     },
     "execution_count": 22,
     "metadata": {},
     "output_type": "execute_result"
    }
   ],
   "source": [
    "# we only want data with petroleum spills, so we'll select those rows from material_family == Petroleum\n",
    "\n",
    "petroleum_spills = spills[ (spills['material_family'] == 'Petroleum')]\n",
    "# checking to see if this step worked\n",
    "petroleum_spills.material_family.unique()\n",
    "# it did!"
   ]
  },
  {
   "cell_type": "code",
   "execution_count": 28,
   "metadata": {
    "tags": []
   },
   "outputs": [
    {
     "data": {
      "text/plain": [
       "array(['2023-05-30T00:00:00.000000000', '2023-06-06T00:00:00.000000000',\n",
       "       '2023-08-02T00:00:00.000000000', '2023-08-28T00:00:00.000000000',\n",
       "       '2023-09-27T00:00:00.000000000', '2023-07-28T00:00:00.000000000',\n",
       "       '2023-01-13T00:00:00.000000000', '2023-02-09T00:00:00.000000000',\n",
       "       '2023-05-07T00:00:00.000000000', '2023-03-31T00:00:00.000000000',\n",
       "       '2023-03-23T00:00:00.000000000', '2023-03-15T00:00:00.000000000',\n",
       "       '2023-06-12T00:00:00.000000000', '2023-09-16T00:00:00.000000000',\n",
       "       '2023-10-16T00:00:00.000000000', '2023-06-05T00:00:00.000000000',\n",
       "       '2023-08-15T00:00:00.000000000', '2023-08-21T00:00:00.000000000',\n",
       "       '2023-09-20T00:00:00.000000000', '2023-03-08T00:00:00.000000000',\n",
       "       '2023-06-15T00:00:00.000000000', '2023-05-21T00:00:00.000000000',\n",
       "       '2023-05-15T00:00:00.000000000', '2023-05-12T00:00:00.000000000',\n",
       "       '2023-06-30T00:00:00.000000000', '2023-01-04T00:00:00.000000000',\n",
       "       '2023-07-02T00:00:00.000000000', '2023-02-08T00:00:00.000000000',\n",
       "       '2023-07-22T00:00:00.000000000', '2023-05-11T00:00:00.000000000',\n",
       "       '2023-01-24T00:00:00.000000000', '2023-04-21T00:00:00.000000000',\n",
       "       '2023-08-22T00:00:00.000000000', '2023-06-29T00:00:00.000000000',\n",
       "       '2023-04-25T00:00:00.000000000', '2023-07-26T00:00:00.000000000',\n",
       "       '2023-01-05T00:00:00.000000000', '2023-01-30T00:00:00.000000000',\n",
       "       '2023-06-02T00:00:00.000000000', '2023-10-19T00:00:00.000000000',\n",
       "       '2023-06-01T00:00:00.000000000', '2023-04-26T00:00:00.000000000',\n",
       "       '2023-05-31T00:00:00.000000000', '2023-04-28T00:00:00.000000000',\n",
       "       '2023-05-23T00:00:00.000000000', '2023-07-21T00:00:00.000000000',\n",
       "       '2023-08-26T00:00:00.000000000', '2023-10-17T00:00:00.000000000',\n",
       "       '2023-06-28T00:00:00.000000000', '2023-03-25T00:00:00.000000000',\n",
       "       '2023-04-03T00:00:00.000000000', '2023-02-06T00:00:00.000000000',\n",
       "       '2023-10-13T00:00:00.000000000', '2023-02-24T00:00:00.000000000',\n",
       "       '2023-01-18T00:00:00.000000000', '2023-08-05T00:00:00.000000000',\n",
       "       '2023-09-15T00:00:00.000000000', '2023-03-16T00:00:00.000000000',\n",
       "       '2023-03-14T00:00:00.000000000', '2023-05-01T00:00:00.000000000',\n",
       "       '2023-08-14T00:00:00.000000000', '2023-07-10T00:00:00.000000000',\n",
       "       '2023-09-06T00:00:00.000000000', '2023-10-04T00:00:00.000000000',\n",
       "       '2023-08-23T00:00:00.000000000', '2023-10-28T00:00:00.000000000',\n",
       "       '2023-07-19T00:00:00.000000000', '2023-10-12T00:00:00.000000000',\n",
       "       '2023-09-22T00:00:00.000000000', '2023-08-18T00:00:00.000000000',\n",
       "       '2023-09-08T00:00:00.000000000', '2023-01-29T00:00:00.000000000',\n",
       "       '2023-06-09T00:00:00.000000000', '2023-08-03T00:00:00.000000000',\n",
       "       '2023-04-15T00:00:00.000000000', '2023-10-01T00:00:00.000000000',\n",
       "       '2023-09-21T00:00:00.000000000', '2023-01-27T00:00:00.000000000',\n",
       "       '2023-06-23T00:00:00.000000000', '2023-06-21T00:00:00.000000000',\n",
       "       '2023-08-31T00:00:00.000000000', '2023-03-27T00:00:00.000000000',\n",
       "       '2023-01-16T00:00:00.000000000', '2023-07-12T00:00:00.000000000',\n",
       "       '2023-07-17T00:00:00.000000000', '2023-04-29T00:00:00.000000000',\n",
       "       '2023-03-02T00:00:00.000000000', '2023-10-09T00:00:00.000000000',\n",
       "       '2023-09-25T00:00:00.000000000', '2023-03-07T00:00:00.000000000',\n",
       "       '2023-09-19T00:00:00.000000000', '2023-02-19T00:00:00.000000000',\n",
       "       '2023-10-02T00:00:00.000000000', '2023-04-19T00:00:00.000000000',\n",
       "       '2023-05-03T00:00:00.000000000', '2023-07-05T00:00:00.000000000',\n",
       "       '2023-04-16T00:00:00.000000000', '2023-08-27T00:00:00.000000000',\n",
       "       '2023-02-15T00:00:00.000000000', '2023-03-22T00:00:00.000000000',\n",
       "       '2023-10-30T00:00:00.000000000', '2023-08-11T00:00:00.000000000',\n",
       "       '2023-09-26T00:00:00.000000000', '2023-03-13T00:00:00.000000000',\n",
       "       '2023-01-01T00:00:00.000000000', '2023-05-18T00:00:00.000000000',\n",
       "       '2023-10-27T00:00:00.000000000', '2023-04-18T00:00:00.000000000',\n",
       "       '2023-05-08T00:00:00.000000000', '2023-06-24T00:00:00.000000000',\n",
       "       '2023-06-26T00:00:00.000000000', '2023-02-21T00:00:00.000000000',\n",
       "       '2023-07-01T00:00:00.000000000', '2023-05-02T00:00:00.000000000',\n",
       "       '2023-08-07T00:00:00.000000000', '2023-02-25T00:00:00.000000000',\n",
       "       '2023-02-16T00:00:00.000000000', '2023-04-12T00:00:00.000000000',\n",
       "       '2023-02-20T00:00:00.000000000', '2023-02-17T00:00:00.000000000',\n",
       "       '2023-02-07T00:00:00.000000000', '2023-07-31T00:00:00.000000000',\n",
       "       '2023-08-06T00:00:00.000000000', '2023-02-18T00:00:00.000000000',\n",
       "       '2023-03-11T00:00:00.000000000', '2023-05-10T00:00:00.000000000',\n",
       "       '2023-06-07T00:00:00.000000000', '2023-04-11T00:00:00.000000000',\n",
       "       '2023-08-29T00:00:00.000000000', '2023-10-18T00:00:00.000000000',\n",
       "       '2023-01-14T00:00:00.000000000', '2023-04-06T00:00:00.000000000',\n",
       "       '2023-05-29T00:00:00.000000000', '2023-03-26T00:00:00.000000000',\n",
       "       '2023-02-11T00:00:00.000000000', '2023-07-03T00:00:00.000000000',\n",
       "       '2023-09-01T00:00:00.000000000', '2023-04-05T00:00:00.000000000',\n",
       "       '2023-09-04T00:00:00.000000000', '2023-09-05T00:00:00.000000000',\n",
       "       '2023-02-28T00:00:00.000000000', '2023-05-20T00:00:00.000000000',\n",
       "       '2023-06-13T00:00:00.000000000', '2023-05-25T00:00:00.000000000',\n",
       "       '2023-07-09T00:00:00.000000000', '2023-07-08T00:00:00.000000000',\n",
       "       '2023-03-30T00:00:00.000000000', '2023-09-18T00:00:00.000000000',\n",
       "       '2023-04-22T00:00:00.000000000', '2023-05-16T00:00:00.000000000',\n",
       "       '2023-08-12T00:00:00.000000000', '2023-03-09T00:00:00.000000000',\n",
       "       '2023-03-24T00:00:00.000000000', '2023-03-10T00:00:00.000000000',\n",
       "       '2023-10-14T00:00:00.000000000', '2023-06-16T00:00:00.000000000',\n",
       "       '2023-02-10T00:00:00.000000000', '2023-08-30T00:00:00.000000000',\n",
       "       '2023-04-17T00:00:00.000000000', '2023-06-03T00:00:00.000000000',\n",
       "       '2023-10-05T00:00:00.000000000', '2023-05-19T00:00:00.000000000',\n",
       "       '2023-04-01T00:00:00.000000000', '2023-04-30T00:00:00.000000000',\n",
       "       '2023-01-23T00:00:00.000000000', '2023-07-24T00:00:00.000000000',\n",
       "       '2023-09-14T00:00:00.000000000', '2023-03-01T00:00:00.000000000',\n",
       "       '2023-05-24T00:00:00.000000000', '2023-06-14T00:00:00.000000000',\n",
       "       '2023-05-05T00:00:00.000000000', '2023-02-01T00:00:00.000000000',\n",
       "       '2023-09-30T00:00:00.000000000', '2023-05-13T00:00:00.000000000',\n",
       "       '2023-05-27T00:00:00.000000000', '2023-03-28T00:00:00.000000000',\n",
       "       '2023-02-23T00:00:00.000000000', '2023-08-16T00:00:00.000000000',\n",
       "       '2023-02-14T00:00:00.000000000', '2023-06-08T00:00:00.000000000',\n",
       "       '2023-01-20T00:00:00.000000000', '2023-03-03T00:00:00.000000000',\n",
       "       '2023-08-24T00:00:00.000000000', '2023-09-07T00:00:00.000000000',\n",
       "       '2023-07-06T00:00:00.000000000', '2023-04-13T00:00:00.000000000',\n",
       "       '2023-01-19T00:00:00.000000000', '2023-09-11T00:00:00.000000000',\n",
       "       '2023-01-11T00:00:00.000000000', '2023-04-04T00:00:00.000000000',\n",
       "       '2023-09-10T00:00:00.000000000', '2023-03-29T00:00:00.000000000',\n",
       "       '2023-05-26T00:00:00.000000000', '2023-10-06T00:00:00.000000000',\n",
       "       '2023-04-14T00:00:00.000000000', '2023-04-10T00:00:00.000000000',\n",
       "       '2023-10-26T00:00:00.000000000', '2023-04-20T00:00:00.000000000',\n",
       "       '2023-09-28T00:00:00.000000000', '2023-10-03T00:00:00.000000000',\n",
       "       '2023-04-08T00:00:00.000000000', '2023-05-17T00:00:00.000000000',\n",
       "       '2023-02-27T00:00:00.000000000', '2023-10-31T00:00:00.000000000',\n",
       "       '2023-01-31T00:00:00.000000000', '2023-07-27T00:00:00.000000000',\n",
       "       '2023-10-10T00:00:00.000000000', '2023-10-25T00:00:00.000000000',\n",
       "       '2023-06-27T00:00:00.000000000', '2023-10-11T00:00:00.000000000',\n",
       "       '2023-06-11T00:00:00.000000000', '2023-10-29T00:00:00.000000000',\n",
       "       '2023-04-07T00:00:00.000000000', '2023-07-20T00:00:00.000000000',\n",
       "       '2023-09-29T00:00:00.000000000', '2023-08-19T00:00:00.000000000',\n",
       "       '2023-03-21T00:00:00.000000000', '2023-02-02T00:00:00.000000000',\n",
       "       '2023-01-06T00:00:00.000000000', '2023-01-12T00:00:00.000000000',\n",
       "       '2023-01-26T00:00:00.000000000', '2023-07-18T00:00:00.000000000',\n",
       "       '2023-07-11T00:00:00.000000000', '2023-01-10T00:00:00.000000000',\n",
       "       '2023-05-09T00:00:00.000000000', '2023-05-14T00:00:00.000000000',\n",
       "       '2023-08-04T00:00:00.000000000', '2023-01-25T00:00:00.000000000',\n",
       "       '2023-04-09T00:00:00.000000000', '2023-07-07T00:00:00.000000000',\n",
       "       '2023-10-15T00:00:00.000000000', '2023-02-04T00:00:00.000000000',\n",
       "       '2023-10-07T00:00:00.000000000', '2023-07-16T00:00:00.000000000',\n",
       "       '2023-09-02T00:00:00.000000000', '2023-09-13T00:00:00.000000000',\n",
       "       '2023-08-10T00:00:00.000000000', '2023-08-01T00:00:00.000000000',\n",
       "       '2023-06-22T00:00:00.000000000', '2023-03-17T00:00:00.000000000',\n",
       "       '2023-09-12T00:00:00.000000000', '2023-06-20T00:00:00.000000000',\n",
       "       '2023-08-13T00:00:00.000000000', '2023-03-18T00:00:00.000000000',\n",
       "       '2023-10-23T00:00:00.000000000', '2023-04-23T00:00:00.000000000',\n",
       "       '2023-08-17T00:00:00.000000000', '2023-02-22T00:00:00.000000000',\n",
       "       '2023-07-15T00:00:00.000000000', '2023-09-03T00:00:00.000000000',\n",
       "       '2023-03-06T00:00:00.000000000', '2023-05-06T00:00:00.000000000',\n",
       "       '2023-05-28T00:00:00.000000000', '2023-07-04T00:00:00.000000000',\n",
       "       '2023-10-08T00:00:00.000000000', '2023-05-22T00:00:00.000000000',\n",
       "       '2023-08-25T00:00:00.000000000', '2023-06-19T00:00:00.000000000',\n",
       "       '2023-06-25T00:00:00.000000000', '2023-08-08T00:00:00.000000000',\n",
       "       '2023-02-13T00:00:00.000000000', '2023-09-23T00:00:00.000000000',\n",
       "       '2023-04-24T00:00:00.000000000', '2023-01-02T00:00:00.000000000',\n",
       "       '2023-03-05T00:00:00.000000000', '2023-01-09T00:00:00.000000000',\n",
       "       '2023-06-18T00:00:00.000000000', '2023-06-17T00:00:00.000000000',\n",
       "       '2023-07-25T00:00:00.000000000', '2023-01-21T00:00:00.000000000',\n",
       "       '2023-07-14T00:00:00.000000000', '2023-09-09T00:00:00.000000000',\n",
       "       '2023-03-04T00:00:00.000000000', '2023-05-04T00:00:00.000000000',\n",
       "       '2023-10-20T00:00:00.000000000', '2023-09-17T00:00:00.000000000',\n",
       "       '2023-01-03T00:00:00.000000000', '2023-03-20T00:00:00.000000000',\n",
       "       '2023-04-27T00:00:00.000000000', '2023-07-13T00:00:00.000000000',\n",
       "       '2023-09-24T00:00:00.000000000', '2023-02-03T00:00:00.000000000',\n",
       "       '2023-02-12T00:00:00.000000000', '2023-06-04T00:00:00.000000000',\n",
       "       '2023-08-09T00:00:00.000000000', '2023-10-24T00:00:00.000000000',\n",
       "       '2023-10-21T00:00:00.000000000', '2023-10-22T00:00:00.000000000',\n",
       "       '2023-07-29T00:00:00.000000000', '2023-02-05T00:00:00.000000000',\n",
       "       '2023-07-30T00:00:00.000000000', '2023-01-17T00:00:00.000000000',\n",
       "       '2023-01-22T00:00:00.000000000', '2023-01-28T00:00:00.000000000',\n",
       "       '2023-01-08T00:00:00.000000000', '2023-07-23T00:00:00.000000000',\n",
       "       '2023-01-07T00:00:00.000000000', '2023-06-10T00:00:00.000000000',\n",
       "       '2023-04-02T00:00:00.000000000', '2023-08-20T00:00:00.000000000',\n",
       "       '2023-01-15T00:00:00.000000000', '2023-02-26T00:00:00.000000000',\n",
       "       '2023-03-19T00:00:00.000000000', '2023-03-12T00:00:00.000000000'],\n",
       "      dtype='datetime64[ns]')"
      ]
     },
     "execution_count": 28,
     "metadata": {},
     "output_type": "execute_result"
    }
   ],
   "source": [
    "# using our subset, now selecting date values between january 1st 2023 and october 31st 2023 (inclusive)\n",
    "\n",
    "test = spills[(spills['spill_date'] >= '2023-01-01') & (spills['spill_date'] <= '2023-10-31')]\n",
    "\n",
    "# checking the output\n",
    "test.head()\n",
    "# seems to work!\n",
    "test.spill_date.unique()"
   ]
  },
  {
   "cell_type": "code",
   "execution_count": 39,
   "metadata": {
    "tags": []
   },
   "outputs": [
    {
     "name": "stdout",
     "output_type": "stream",
     "text": [
      "535141\n"
     ]
    },
    {
     "data": {
      "text/html": [
       "<div>\n",
       "<style scoped>\n",
       "    .dataframe tbody tr th:only-of-type {\n",
       "        vertical-align: middle;\n",
       "    }\n",
       "\n",
       "    .dataframe tbody tr th {\n",
       "        vertical-align: top;\n",
       "    }\n",
       "\n",
       "    .dataframe thead th {\n",
       "        text-align: right;\n",
       "    }\n",
       "</style>\n",
       "<table border=\"1\" class=\"dataframe\">\n",
       "  <thead>\n",
       "    <tr style=\"text-align: right;\">\n",
       "      <th></th>\n",
       "      <th>spill_number</th>\n",
       "      <th>program_facility_name</th>\n",
       "      <th>street_1</th>\n",
       "      <th>street_2</th>\n",
       "      <th>locality</th>\n",
       "      <th>county</th>\n",
       "      <th>zip_code</th>\n",
       "      <th>swis_code</th>\n",
       "      <th>dec_region</th>\n",
       "      <th>spill_date</th>\n",
       "      <th>received_date</th>\n",
       "      <th>contributing_factor</th>\n",
       "      <th>waterbody</th>\n",
       "      <th>source</th>\n",
       "      <th>close_date</th>\n",
       "      <th>material_name</th>\n",
       "      <th>material_family</th>\n",
       "      <th>quantity</th>\n",
       "      <th>units</th>\n",
       "      <th>recovered</th>\n",
       "    </tr>\n",
       "  </thead>\n",
       "  <tbody>\n",
       "    <tr>\n",
       "      <th>220</th>\n",
       "      <td>2301892</td>\n",
       "      <td>*** TEST SPILL ***</td>\n",
       "      <td>*** TEST SPILL ***</td>\n",
       "      <td>NaN</td>\n",
       "      <td>*** TEST SPILL ***</td>\n",
       "      <td>Onondaga</td>\n",
       "      <td>00000</td>\n",
       "      <td>3415</td>\n",
       "      <td>7</td>\n",
       "      <td>2023-06-06</td>\n",
       "      <td>2023-06-06</td>\n",
       "      <td>Tank Test Failure</td>\n",
       "      <td>NaN</td>\n",
       "      <td>Unknown</td>\n",
       "      <td>2023-07-12</td>\n",
       "      <td>#2 fuel oil</td>\n",
       "      <td>Petroleum</td>\n",
       "      <td>0.0</td>\n",
       "      <td>Gallons</td>\n",
       "      <td>0.0</td>\n",
       "    </tr>\n",
       "    <tr>\n",
       "      <th>221</th>\n",
       "      <td>2301892</td>\n",
       "      <td>*** TEST SPILL ***</td>\n",
       "      <td>*** TEST SPILL ***</td>\n",
       "      <td>NaN</td>\n",
       "      <td>*** TEST SPILL ***</td>\n",
       "      <td>Onondaga</td>\n",
       "      <td>00000</td>\n",
       "      <td>3415</td>\n",
       "      <td>7</td>\n",
       "      <td>2023-06-06</td>\n",
       "      <td>2023-06-06</td>\n",
       "      <td>Tank Test Failure</td>\n",
       "      <td>NaN</td>\n",
       "      <td>Unknown</td>\n",
       "      <td>2023-07-12</td>\n",
       "      <td>used oil (heating, on-site consumption)</td>\n",
       "      <td>Petroleum</td>\n",
       "      <td>0.0</td>\n",
       "      <td>NaN</td>\n",
       "      <td>0.0</td>\n",
       "    </tr>\n",
       "    <tr>\n",
       "      <th>222</th>\n",
       "      <td>2301892</td>\n",
       "      <td>*** TEST SPILL ***</td>\n",
       "      <td>*** TEST SPILL ***</td>\n",
       "      <td>NaN</td>\n",
       "      <td>*** TEST SPILL ***</td>\n",
       "      <td>Onondaga</td>\n",
       "      <td>00000</td>\n",
       "      <td>3415</td>\n",
       "      <td>7</td>\n",
       "      <td>2023-06-06</td>\n",
       "      <td>2023-06-06</td>\n",
       "      <td>Tank Test Failure</td>\n",
       "      <td>NaN</td>\n",
       "      <td>Unknown</td>\n",
       "      <td>2023-07-12</td>\n",
       "      <td>#2 fuel oil (on-site consumption)</td>\n",
       "      <td>Petroleum</td>\n",
       "      <td>0.0</td>\n",
       "      <td>NaN</td>\n",
       "      <td>0.0</td>\n",
       "    </tr>\n",
       "    <tr>\n",
       "      <th>223</th>\n",
       "      <td>2301892</td>\n",
       "      <td>*** TEST SPILL ***</td>\n",
       "      <td>*** TEST SPILL ***</td>\n",
       "      <td>NaN</td>\n",
       "      <td>*** TEST SPILL ***</td>\n",
       "      <td>Onondaga</td>\n",
       "      <td>00000</td>\n",
       "      <td>3415</td>\n",
       "      <td>7</td>\n",
       "      <td>2023-06-06</td>\n",
       "      <td>2023-06-06</td>\n",
       "      <td>Tank Test Failure</td>\n",
       "      <td>NaN</td>\n",
       "      <td>Unknown</td>\n",
       "      <td>2023-07-12</td>\n",
       "      <td>Diesel (E-Gen)</td>\n",
       "      <td>Petroleum</td>\n",
       "      <td>0.0</td>\n",
       "      <td>NaN</td>\n",
       "      <td>0.0</td>\n",
       "    </tr>\n",
       "    <tr>\n",
       "      <th>225</th>\n",
       "      <td>2301892</td>\n",
       "      <td>*** TEST SPILL ***</td>\n",
       "      <td>*** TEST SPILL ***</td>\n",
       "      <td>NaN</td>\n",
       "      <td>*** TEST SPILL ***</td>\n",
       "      <td>Onondaga</td>\n",
       "      <td>00000</td>\n",
       "      <td>3415</td>\n",
       "      <td>7</td>\n",
       "      <td>2023-06-06</td>\n",
       "      <td>2023-06-06</td>\n",
       "      <td>Tank Test Failure</td>\n",
       "      <td>NaN</td>\n",
       "      <td>Unknown</td>\n",
       "      <td>2023-07-12</td>\n",
       "      <td>waste oil/used oil</td>\n",
       "      <td>Petroleum</td>\n",
       "      <td>0.0</td>\n",
       "      <td>NaN</td>\n",
       "      <td>0.0</td>\n",
       "    </tr>\n",
       "  </tbody>\n",
       "</table>\n",
       "</div>"
      ],
      "text/plain": [
       "     spill_number program_facility_name            street_1 street_2  \\\n",
       "220       2301892    *** TEST SPILL ***  *** TEST SPILL ***      NaN   \n",
       "221       2301892    *** TEST SPILL ***  *** TEST SPILL ***      NaN   \n",
       "222       2301892    *** TEST SPILL ***  *** TEST SPILL ***      NaN   \n",
       "223       2301892    *** TEST SPILL ***  *** TEST SPILL ***      NaN   \n",
       "225       2301892    *** TEST SPILL ***  *** TEST SPILL ***      NaN   \n",
       "\n",
       "               locality    county zip_code  swis_code  dec_region spill_date  \\\n",
       "220  *** TEST SPILL ***  Onondaga    00000       3415           7 2023-06-06   \n",
       "221  *** TEST SPILL ***  Onondaga    00000       3415           7 2023-06-06   \n",
       "222  *** TEST SPILL ***  Onondaga    00000       3415           7 2023-06-06   \n",
       "223  *** TEST SPILL ***  Onondaga    00000       3415           7 2023-06-06   \n",
       "225  *** TEST SPILL ***  Onondaga    00000       3415           7 2023-06-06   \n",
       "\n",
       "    received_date contributing_factor waterbody   source close_date  \\\n",
       "220    2023-06-06   Tank Test Failure       NaN  Unknown 2023-07-12   \n",
       "221    2023-06-06   Tank Test Failure       NaN  Unknown 2023-07-12   \n",
       "222    2023-06-06   Tank Test Failure       NaN  Unknown 2023-07-12   \n",
       "223    2023-06-06   Tank Test Failure       NaN  Unknown 2023-07-12   \n",
       "225    2023-06-06   Tank Test Failure       NaN  Unknown 2023-07-12   \n",
       "\n",
       "                               material_name material_family  quantity  \\\n",
       "220                              #2 fuel oil       Petroleum       0.0   \n",
       "221  used oil (heating, on-site consumption)       Petroleum       0.0   \n",
       "222        #2 fuel oil (on-site consumption)       Petroleum       0.0   \n",
       "223                           Diesel (E-Gen)       Petroleum       0.0   \n",
       "225                       waste oil/used oil       Petroleum       0.0   \n",
       "\n",
       "       units  recovered  \n",
       "220  Gallons        0.0  \n",
       "221      NaN        0.0  \n",
       "222      NaN        0.0  \n",
       "223      NaN        0.0  \n",
       "225      NaN        0.0  "
      ]
     },
     "execution_count": 39,
     "metadata": {},
     "output_type": "execute_result"
    }
   ],
   "source": [
    "# one liner\n",
    "\n",
    "petr_23 = spills[(spills['material_family'] == 'Petroleum') & (spills['spill_date'] >= '2023-01-01') & (spills['spill_date'] <= '2023-10-31')]\n",
    "\n",
    "\n",
    "# checking my output again\n",
    "print(len(spills) - len(petr_23))\n",
    "petr_23.head()"
   ]
  },
  {
   "cell_type": "markdown",
   "metadata": {},
   "source": [
    "2. Verify that `petr_23` only has data for petroleum spills "
   ]
  },
  {
   "cell_type": "code",
   "execution_count": 40,
   "metadata": {
    "tags": []
   },
   "outputs": [
    {
     "data": {
      "text/plain": [
       "array(['Petroleum'], dtype=object)"
      ]
     },
     "execution_count": 40,
     "metadata": {},
     "output_type": "execute_result"
    }
   ],
   "source": [
    "petr_23.material_family.unique()"
   ]
  },
  {
   "cell_type": "markdown",
   "metadata": {},
   "source": [
    "3. Verify that `petr_23` only has data for 2023. \n",
    "HINT: if you converted the `spill_date` column to datetime, you can use `petr_23.spill_date.dt.year.unique()`"
   ]
  },
  {
   "cell_type": "code",
   "execution_count": 42,
   "metadata": {
    "tags": []
   },
   "outputs": [
    {
     "data": {
      "text/plain": [
       "array([2023])"
      ]
     },
     "execution_count": 43,
     "metadata": {},
     "output_type": "execute_result"
    }
   ],
   "source": [
    "# I transformed my date columns to be datetime data types so I'll use the code suggested above\n",
    "\n",
    "petr_23.spill_date.dt.year.unique()"
   ]
  },
  {
   "cell_type": "markdown",
   "metadata": {},
   "source": [
    "4. Verify that `petr_23` only has data from January to October. "
   ]
  },
  {
   "cell_type": "code",
   "execution_count": 44,
   "metadata": {
    "tags": []
   },
   "outputs": [
    {
     "data": {
      "text/plain": [
       "array([ 6,  8,  9,  7,  1,  2,  3, 10,  5,  4])"
      ]
     },
     "execution_count": 44,
     "metadata": {},
     "output_type": "execute_result"
    }
   ],
   "source": [
    "# using the same code as above, specifying month instead of year\n",
    "petr_23.spill_date.dt.month.unique()"
   ]
  },
  {
   "cell_type": "markdown",
   "metadata": {},
   "source": [
    "### Data aggregation\n",
    "\n",
    "Create new dataframe named `spills_per_county` with the number of petroleum spills per county from January to October 2023 (i.e. use the `petr_23` dataframe).\n",
    "\n",
    "The resulting `spills_per_county` dataframe must be as follows:\n",
    "\n",
    "- Index: integer numbers starting from 0\n",
    "- Column one: county names, column name = `county`\n",
    "- Column two: number of petroleum spills per county in 2023, column name = `n_spills`\n",
    "\n",
    "You may add cells if you needed."
   ]
  },
  {
   "cell_type": "code",
   "execution_count": 9,
   "metadata": {},
   "outputs": [],
   "source": [
    "# your code here"
   ]
  },
  {
   "cell_type": "markdown",
   "metadata": {},
   "source": [
    "## Prepare counties data\n",
    "\n",
    "This section refers to the `counties` geodataframe. \n",
    "Check the outputs carefully, they will give you context about the next exercises.\n",
    "\n",
    "### Exploration\n",
    "\n",
    "In the next cells:\n",
    "\n",
    "1. Check the geo-dataframe's head\n",
    "2. Simplify column names as needed\n",
    "3. Check the data types of the columns\n",
    "4. Check the geo-dataframe's CRS\n",
    "5. Plot the geo-dataframe.\n",
    "\n",
    "You can add any other cells of preliminary data exploration."
   ]
  },
  {
   "cell_type": "code",
   "execution_count": 10,
   "metadata": {},
   "outputs": [],
   "source": [
    "# 1."
   ]
  },
  {
   "cell_type": "code",
   "execution_count": 11,
   "metadata": {},
   "outputs": [],
   "source": [
    "# 2."
   ]
  },
  {
   "cell_type": "code",
   "execution_count": 12,
   "metadata": {},
   "outputs": [],
   "source": [
    "# 3. "
   ]
  },
  {
   "cell_type": "code",
   "execution_count": 13,
   "metadata": {},
   "outputs": [],
   "source": [
    "# 4. "
   ]
  },
  {
   "cell_type": "code",
   "execution_count": 14,
   "metadata": {},
   "outputs": [],
   "source": [
    "# 5. "
   ]
  },
  {
   "cell_type": "markdown",
   "metadata": {},
   "source": [
    "### Data selection\n",
    "\n",
    "Select all the counties for the state of New York in a new variable `ny_counties` and plot them. HINT: to find which counties correspond to NY, look at the metadata."
   ]
  },
  {
   "cell_type": "code",
   "execution_count": 16,
   "metadata": {},
   "outputs": [],
   "source": [
    "# your code here"
   ]
  },
  {
   "cell_type": "markdown",
   "metadata": {},
   "source": [
    "## Merging\n",
    "\n",
    "The goal of this section is to create a single dataframe with the number of spills per county and the corresponding geometries for each county.\n",
    "\n",
    "### Explore data\n",
    "\n",
    "In the next cells:\n",
    "\n",
    "1. Print the names of counties in `ny_counties`, without repetition.\n",
    "2. Print the names of counties in `spills_per_county`, without repetition. (Do you notice anything?)\n",
    "3. Use the [`numpy` function `setdiff1d()`](https://numpy.org/doc/stable/reference/generated/numpy.setdiff1d.html) to find the county names that are in `spills_per_county`, but not in `ny_counties`. HINT: pay attention to the example in the documentation.\n",
    "4. Find the county names that are in `ny_counties`, but not in `spills_per_county`.\n",
    "5. Check the number of spills in 'Tuscarora Indian Reservation'.\n"
   ]
  },
  {
   "cell_type": "code",
   "execution_count": 17,
   "metadata": {},
   "outputs": [],
   "source": [
    "# 1."
   ]
  },
  {
   "cell_type": "code",
   "execution_count": 18,
   "metadata": {},
   "outputs": [],
   "source": [
    "# 2."
   ]
  },
  {
   "cell_type": "code",
   "execution_count": 19,
   "metadata": {},
   "outputs": [],
   "source": [
    "# 3."
   ]
  },
  {
   "cell_type": "code",
   "execution_count": 20,
   "metadata": {},
   "outputs": [],
   "source": [
    "# 4."
   ]
  },
  {
   "cell_type": "code",
   "execution_count": 21,
   "metadata": {},
   "outputs": [],
   "source": [
    "# 5. \n"
   ]
  },
  {
   "cell_type": "markdown",
   "metadata": {},
   "source": [
    "### Data updates\n",
    "\n",
    "In this section we will update 'St Lawrence' to 'St. Lawrence' in `spills_per_county` data frame.\n",
    "\n",
    "In the next cells:\n",
    "1. Check the row in `spills_per_county` that has 'St Lawrence'\n",
    "2. Run the code and read the explanation in the comments\n",
    "3. Run the code and read the explanation in the comments\n",
    "4. Use the `st_lawrence_index` and `at` to update St Lawrence name in `spills_per_county` dataframe\n",
    "5. Check the update was successfull"
   ]
  },
  {
   "cell_type": "code",
   "execution_count": 22,
   "metadata": {},
   "outputs": [],
   "source": [
    "# 1. "
   ]
  },
  {
   "cell_type": "code",
   "execution_count": 25,
   "metadata": {},
   "outputs": [
    {
     "data": {
      "text/plain": [
       "Int64Index([50], dtype='int64')"
      ]
     },
     "execution_count": 25,
     "metadata": {},
     "output_type": "execute_result"
    }
   ],
   "source": [
    "# 2. we can get the index of that single row like this, to access the actual row index...\n",
    "spills_per_county[spills_per_county.county=='St Lawrence'].index"
   ]
  },
  {
   "cell_type": "code",
   "execution_count": 26,
   "metadata": {},
   "outputs": [
    {
     "data": {
      "text/plain": [
       "50"
      ]
     },
     "execution_count": 26,
     "metadata": {},
     "output_type": "execute_result"
    }
   ],
   "source": [
    "# 3. we need to select the first item in that tuple using [0]\n",
    "st_lawrence_index = spills_per_county[spills_per_county.county=='St Lawrence'].index[0]\n",
    "st_lawrence_index"
   ]
  },
  {
   "cell_type": "code",
   "execution_count": 23,
   "metadata": {},
   "outputs": [],
   "source": [
    "# 4. "
   ]
  },
  {
   "cell_type": "code",
   "execution_count": 24,
   "metadata": {},
   "outputs": [],
   "source": [
    "# 5."
   ]
  },
  {
   "cell_type": "markdown",
   "metadata": {},
   "source": [
    "### Merge\n",
    "\n",
    "In the following cells:\n",
    "1. Use this cell to make any other updates needed for making an inner join of the `spills_per_county` and `ny_counties`. \n",
    "2. Over-write `ny_counties` as the  inner join of the `spills_per_county` and `ny_counties` dataframes.\n",
    "\n",
    "From our previous exploration we know that Tuscarora Indian Reservation will not be in the join. Tuscarora Indian Reservation is located within Niagara county. \n",
    "\n",
    "3. Since the Tuscarora Indian Reservation does not appear in the `ny_counties` dataframe, add one spill to Niagara county. We will add a note about this in our final map. Add the cells you need to make this update **and** verify that the dataframe was updated."
   ]
  },
  {
   "cell_type": "code",
   "execution_count": 25,
   "metadata": {},
   "outputs": [],
   "source": [
    "# 1. \n"
   ]
  },
  {
   "cell_type": "code",
   "execution_count": 26,
   "metadata": {},
   "outputs": [],
   "source": [
    "# 2."
   ]
  },
  {
   "cell_type": "code",
   "execution_count": 27,
   "metadata": {},
   "outputs": [],
   "source": [
    "# your code here"
   ]
  },
  {
   "cell_type": "markdown",
   "metadata": {},
   "source": [
    "## Map\n",
    "Create a choropleth map of the number of petroleum spills per county in the state of New York in 2023. \n",
    "Your map should have (at least) the following updates:\n",
    "- a legend indicating the number of spills\n",
    "- an updated color map\n",
    "- a title \n",
    "- no axis\n",
    "- an annotation with the data source (New York State Department of Environmental Conservation), date of access HINT: check the graph we did for power plants, \n",
    "- an annotation indicating one spill occurred in Tuscarora Indian Reservation within Niagara county"
   ]
  },
  {
   "cell_type": "markdown",
   "metadata": {},
   "source": [
    "Tuscarora Indian Reservation in Niagara county"
   ]
  },
  {
   "cell_type": "code",
   "execution_count": 28,
   "metadata": {},
   "outputs": [],
   "source": [
    "# your code here"
   ]
  },
  {
   "cell_type": "markdown",
   "metadata": {},
   "source": [
    "## Final code\n",
    "\n",
    "Collect all the relevant code into the first blank cell of the notebook titled \"FINAL CODE\". This single cell will have the end-to-end workflow: from importing libraries and loading the data, to producing the graph. The *only* ouput of this cell should be the graph you produced in the previous exercise. For each line, add a single comment explaining what the code does."
   ]
  }
 ],
 "metadata": {
  "kernelspec": {
   "display_name": "Anaconda 3 (Base)",
   "language": "python",
   "name": "base"
  },
  "language_info": {
   "codemirror_mode": {
    "name": "ipython",
    "version": 3
   },
   "file_extension": ".py",
   "mimetype": "text/x-python",
   "name": "python",
   "nbconvert_exporter": "python",
   "pygments_lexer": "ipython3",
   "version": "3.9.13"
  },
  "vscode": {
   "interpreter": {
    "hash": "fd47fb98a7ce7f6a10c657f2a810bfb9d752313f8f3dd9c5b44bfbb724ce30e0"
   }
  }
 },
 "nbformat": 4,
 "nbformat_minor": 4
}
